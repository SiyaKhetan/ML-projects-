{
 "cells": [
  {
   "cell_type": "code",
   "execution_count": 4,
   "id": "223d0531-975d-4e4a-b65f-f89aef5a9635",
   "metadata": {},
   "outputs": [],
   "source": [
    "import numpy as np \n",
    "import pandas as pd \n",
    "import matplotlib.pyplot as plt \n",
    "df=pd.read_csv(r\"C:\\Users\\LENOVO\\Downloads\\Mutual-Funds-India-Historical-NAV-Report.csv\")\n",
    "x=dataset.iloc[:, :-1].values\n",
    "y=dataset.iloc[:,1].values\n",
    "from sklearn.model_selection import train_test_split\n",
    "x_train,x_test,y_train,y_test=train_test_split(x,y,test_size=1/3,random_state=9)\n"
   ]
  },
  {
   "cell_type": "code",
   "execution_count": 43,
   "id": "6715f719-5e8d-43c2-8946-59f703b6b946",
   "metadata": {},
   "outputs": [
    {
     "data": {
      "text/plain": [
       "array([['10-07-2024'],\n",
       "       ['09-07-2024'],\n",
       "       ['08-07-2024'],\n",
       "       ...,\n",
       "       ['13-08-2014'],\n",
       "       ['12-08-2014'],\n",
       "       ['11-08-2014']], dtype=object)"
      ]
     },
     "execution_count": 43,
     "metadata": {},
     "output_type": "execute_result"
    }
   ],
   "source": [
    "x"
   ]
  },
  {
   "cell_type": "code",
   "execution_count": 45,
   "id": "fdd16a83-6680-47c5-810c-685257af0117",
   "metadata": {},
   "outputs": [
    {
     "data": {
      "text/plain": [
       "0       250.4880\n",
       "1       252.1362\n",
       "2       250.4565\n",
       "3       251.1779\n",
       "4       249.6424\n",
       "          ...   \n",
       "2432     37.4482\n",
       "2433     37.1531\n",
       "2434     36.9001\n",
       "2435     37.0239\n",
       "2436     36.9249\n",
       "Name: NAV (Rs), Length: 2437, dtype: float64"
      ]
     },
     "execution_count": 45,
     "metadata": {},
     "output_type": "execute_result"
    }
   ],
   "source": [
    "y"
   ]
  },
  {
   "cell_type": "code",
   "execution_count": 47,
   "id": "a57239ed-5d78-44c7-a614-7effd87800f7",
   "metadata": {},
   "outputs": [
    {
     "data": {
      "text/html": [
       "<div>\n",
       "<style scoped>\n",
       "    .dataframe tbody tr th:only-of-type {\n",
       "        vertical-align: middle;\n",
       "    }\n",
       "\n",
       "    .dataframe tbody tr th {\n",
       "        vertical-align: top;\n",
       "    }\n",
       "\n",
       "    .dataframe thead th {\n",
       "        text-align: right;\n",
       "    }\n",
       "</style>\n",
       "<table border=\"1\" class=\"dataframe\">\n",
       "  <thead>\n",
       "    <tr style=\"text-align: right;\">\n",
       "      <th></th>\n",
       "      <th>NAV Date</th>\n",
       "      <th>NAV (Rs)</th>\n",
       "    </tr>\n",
       "  </thead>\n",
       "  <tbody>\n",
       "    <tr>\n",
       "      <th>0</th>\n",
       "      <td>10-07-2024</td>\n",
       "      <td>250.4880</td>\n",
       "    </tr>\n",
       "    <tr>\n",
       "      <th>1</th>\n",
       "      <td>09-07-2024</td>\n",
       "      <td>252.1362</td>\n",
       "    </tr>\n",
       "    <tr>\n",
       "      <th>2</th>\n",
       "      <td>08-07-2024</td>\n",
       "      <td>250.4565</td>\n",
       "    </tr>\n",
       "    <tr>\n",
       "      <th>3</th>\n",
       "      <td>05-07-2024</td>\n",
       "      <td>251.1779</td>\n",
       "    </tr>\n",
       "    <tr>\n",
       "      <th>4</th>\n",
       "      <td>04-07-2024</td>\n",
       "      <td>249.6424</td>\n",
       "    </tr>\n",
       "  </tbody>\n",
       "</table>\n",
       "</div>"
      ],
      "text/plain": [
       "     NAV Date  NAV (Rs)\n",
       "0  10-07-2024  250.4880\n",
       "1  09-07-2024  252.1362\n",
       "2  08-07-2024  250.4565\n",
       "3  05-07-2024  251.1779\n",
       "4  04-07-2024  249.6424"
      ]
     },
     "execution_count": 47,
     "metadata": {},
     "output_type": "execute_result"
    }
   ],
   "source": [
    "df.head()"
   ]
  },
  {
   "cell_type": "code",
   "execution_count": 6,
   "id": "4b573f95-ea1a-4b4b-a659-7b0006dbabfa",
   "metadata": {},
   "outputs": [
    {
     "name": "stdout",
     "output_type": "stream",
     "text": [
      "<class 'pandas.core.frame.DataFrame'>\n",
      "RangeIndex: 2437 entries, 0 to 2436\n",
      "Data columns (total 2 columns):\n",
      " #   Column    Non-Null Count  Dtype  \n",
      "---  ------    --------------  -----  \n",
      " 0   NAV Date  2437 non-null   object \n",
      " 1   NAV (Rs)  2437 non-null   float64\n",
      "dtypes: float64(1), object(1)\n",
      "memory usage: 38.2+ KB\n"
     ]
    }
   ],
   "source": [
    "df.info()"
   ]
  },
  {
   "cell_type": "code",
   "execution_count": 8,
   "id": "d0e2c4f6-3c0f-449d-8bd8-40b46bfaedb9",
   "metadata": {},
   "outputs": [
    {
     "data": {
      "text/html": [
       "<div>\n",
       "<style scoped>\n",
       "    .dataframe tbody tr th:only-of-type {\n",
       "        vertical-align: middle;\n",
       "    }\n",
       "\n",
       "    .dataframe tbody tr th {\n",
       "        vertical-align: top;\n",
       "    }\n",
       "\n",
       "    .dataframe thead th {\n",
       "        text-align: right;\n",
       "    }\n",
       "</style>\n",
       "<table border=\"1\" class=\"dataframe\">\n",
       "  <thead>\n",
       "    <tr style=\"text-align: right;\">\n",
       "      <th></th>\n",
       "      <th>NAV (Rs)</th>\n",
       "    </tr>\n",
       "  </thead>\n",
       "  <tbody>\n",
       "    <tr>\n",
       "      <th>count</th>\n",
       "      <td>2437.000000</td>\n",
       "    </tr>\n",
       "    <tr>\n",
       "      <th>mean</th>\n",
       "      <td>82.264970</td>\n",
       "    </tr>\n",
       "    <tr>\n",
       "      <th>std</th>\n",
       "      <td>48.784294</td>\n",
       "    </tr>\n",
       "    <tr>\n",
       "      <th>min</th>\n",
       "      <td>36.900100</td>\n",
       "    </tr>\n",
       "    <tr>\n",
       "      <th>25%</th>\n",
       "      <td>46.755700</td>\n",
       "    </tr>\n",
       "    <tr>\n",
       "      <th>50%</th>\n",
       "      <td>56.379600</td>\n",
       "    </tr>\n",
       "    <tr>\n",
       "      <th>75%</th>\n",
       "      <td>117.042300</td>\n",
       "    </tr>\n",
       "    <tr>\n",
       "      <th>max</th>\n",
       "      <td>252.136200</td>\n",
       "    </tr>\n",
       "  </tbody>\n",
       "</table>\n",
       "</div>"
      ],
      "text/plain": [
       "          NAV (Rs)\n",
       "count  2437.000000\n",
       "mean     82.264970\n",
       "std      48.784294\n",
       "min      36.900100\n",
       "25%      46.755700\n",
       "50%      56.379600\n",
       "75%     117.042300\n",
       "max     252.136200"
      ]
     },
     "execution_count": 8,
     "metadata": {},
     "output_type": "execute_result"
    }
   ],
   "source": [
    "df.describe()"
   ]
  },
  {
   "cell_type": "code",
   "execution_count": 10,
   "id": "614ecf4e-17bc-495e-8604-a1dd04807a5b",
   "metadata": {},
   "outputs": [
    {
     "data": {
      "text/plain": [
       "array([['09-06-2023'],\n",
       "       ['01-02-2021'],\n",
       "       ['11-07-2022'],\n",
       "       ...,\n",
       "       ['24-06-2022'],\n",
       "       ['06-02-2023'],\n",
       "       ['19-12-2022']], dtype=object)"
      ]
     },
     "execution_count": 10,
     "metadata": {},
     "output_type": "execute_result"
    }
   ],
   "source": [
    "x_train"
   ]
  },
  {
   "cell_type": "code",
   "execution_count": 12,
   "id": "d42688a5-0d8f-4ab1-81d6-68a7e294bd30",
   "metadata": {},
   "outputs": [
    {
     "data": {
      "text/plain": [
       "array([137.4328,  77.153 , 117.8564, ..., 111.82  , 130.3876, 140.9535])"
      ]
     },
     "execution_count": 12,
     "metadata": {},
     "output_type": "execute_result"
    }
   ],
   "source": [
    "y_train"
   ]
  },
  {
   "cell_type": "code",
   "execution_count": 14,
   "id": "6cfea484-3e1a-4bc9-8e8c-cabcf8c5756f",
   "metadata": {},
   "outputs": [
    {
     "data": {
      "text/plain": [
       "1624"
      ]
     },
     "execution_count": 14,
     "metadata": {},
     "output_type": "execute_result"
    }
   ],
   "source": [
    "len(x_train)"
   ]
  },
  {
   "cell_type": "code",
   "execution_count": 22,
   "id": "8131aa5e-eafc-4db6-ac18-ef5dc46d4875",
   "metadata": {},
   "outputs": [
    {
     "data": {
      "text/plain": [
       "813"
      ]
     },
     "execution_count": 22,
     "metadata": {},
     "output_type": "execute_result"
    }
   ],
   "source": [
    "len(x_test)"
   ]
  },
  {
   "cell_type": "code",
   "execution_count": 24,
   "id": "f8a23b28-a8d3-4250-bb25-27432d6e19d1",
   "metadata": {},
   "outputs": [],
   "source": [
    "date_column = 'NAV Date'  \n",
    "price_column = 'NAV (Rs)'  \n",
    "\n",
    "\n",
    "dataset[date_column] = pd.to_datetime(dataset[date_column], format='%d-%m-%Y')  \n",
    "\n",
    "\n",
    "dataset['date_float'] = dataset[date_column].apply(lambda x: x.timestamp())\n",
    "\n",
    "\n",
    "X = dataset[['date_float']]\n",
    "y = dataset[price_column]\n",
    "x_train,x_test,y_train,y_test=train_test_split(X,y,test_size=1/3,random_state=9)"
   ]
  },
  {
   "cell_type": "code",
   "execution_count": 26,
   "id": "97be5159-49b6-40ed-8075-da6bbb827614",
   "metadata": {},
   "outputs": [
    {
     "data": {
      "text/plain": [
       "<matplotlib.collections.PathCollection at 0x1c896b0e1d0>"
      ]
     },
     "execution_count": 26,
     "metadata": {},
     "output_type": "execute_result"
    },
    {
     "data": {
      "image/png": "[encoded data removed]",
      "text/plain": [
       "<Figure size 640x480 with 1 Axes>"
      ]
     },
     "metadata": {},
     "output_type": "display_data"
    }
   ],
   "source": [
    "plt.scatter(x_train,y_train)"
   ]
  },
  {
   "cell_type": "code",
   "execution_count": 32,
   "id": "979de279-e0b8-407a-a025-e7c7ae4a4926",
   "metadata": {},
   "outputs": [
    {
     "data": {
      "text/plain": [
       "1964     45.6606\n",
       "1505     56.5778\n",
       "2345     41.8410\n",
       "680     114.8323\n",
       "1445     59.5936\n",
       "          ...   \n",
       "1211     49.7644\n",
       "2274     46.5520\n",
       "441     136.4695\n",
       "937      64.0525\n",
       "281     132.1189\n",
       "Name: NAV (Rs), Length: 813, dtype: float64"
      ]
     },
     "execution_count": 32,
     "metadata": {},
     "output_type": "execute_result"
    }
   ],
   "source": [
    "y_test"
   ]
  },
  {
   "cell_type": "code",
   "execution_count": 92,
   "id": "99f2f748-df22-47f9-9bdd-06f3e8262eec",
   "metadata": {},
   "outputs": [
    {
     "name": "stdout",
     "output_type": "stream",
     "text": [
      "[ 45.828164  56.700382  41.742899 115.617638  59.643927  50.47472\n",
      "  43.075271  53.631746  42.035328 134.14101   44.624009  99.021197\n",
      "  39.519048  42.779828  47.561724 123.948208 110.263563 136.317816\n",
      "  45.907071  44.248088  49.04032   57.644396 130.6894   119.973964\n",
      " 192.191602 224.711878  54.864138 122.000209  57.725774  51.723008\n",
      " 119.041526  46.458069 126.980726  54.780153 158.444814 242.290553\n",
      "  54.032327  58.277784  55.790347  56.393172  54.215446  56.176595\n",
      "  79.044764  54.175645  44.160276  41.591368  45.978631  59.437312\n",
      "  63.516517  55.604756 166.860594  42.23756   53.073798 155.032822\n",
      " 162.840422 190.101028  51.901447  60.048037  45.867291  40.882266\n",
      "  51.341395  56.958505  55.074491  49.438558 141.046061  50.752548\n",
      " 107.743993  54.696615  45.482971 180.658615 124.611204  57.400253\n",
      " 152.94245  239.677281  47.9334    52.996414  40.236195  57.532817\n",
      "  45.439107 105.346866  69.932761  50.271819  53.367497  59.202373\n",
      " 170.351687  56.054747 152.976923  58.518771  78.72447   50.351803\n",
      "  50.526538  46.836529 131.944493  56.367975 132.9513    57.74961\n",
      "  69.061642 157.553019 119.637334  59.150882 205.924771 106.481558\n",
      " 106.622551  56.438677  55.884204 134.088162  51.572326 134.867102\n",
      " 135.222545  44.467267  84.77145  115.629186  46.469695 138.514006\n",
      "  44.582196  49.398653  55.664291 218.596697  54.859324  42.904021\n",
      " 184.994571 117.642777  57.554999  75.804791 134.882624  41.156881\n",
      " 244.573601 138.948943  46.212597  46.057899  53.033674 120.875257\n",
      " 204.402982 154.576135  38.619673  43.651512  80.923352 129.673079\n",
      " 131.750254 100.778739  39.719631  44.056481  46.696352  45.816469\n",
      "  53.961807 128.310899  55.412039  46.146816 173.064858 103.91952\n",
      " 206.35679   56.747237  54.059834 149.900335 119.524675  45.403722\n",
      "  44.057899  37.037611  57.440109 107.236232  41.957775  43.203764\n",
      "  39.497416  45.711883  53.179666 118.20749   44.599327 126.596949\n",
      "  38.191031  55.457635 175.393631  74.735851  44.229237  57.874734\n",
      " 208.33241   39.805577  45.777545 129.931925 112.695262  62.649771\n",
      "  58.064688  45.271632  55.812327  55.865145  44.615973 187.852448\n",
      "  45.860981 201.338748  55.996597  45.885244  42.947845 136.438591\n",
      "  55.595664 128.483681 138.770902  46.297682  57.745464  55.332881\n",
      " 163.940942  44.360266  51.632219 131.835999  51.298167  45.948353\n",
      " 162.840422  46.116862 170.466477  43.770157 109.753344  49.662502\n",
      "  41.987484 119.402979 113.318922  50.582853  54.706501  55.875535\n",
      " 132.101627 119.386357  79.733804  50.537851 117.017187  55.462486\n",
      "  45.877796 105.192411 122.532176 130.644705  57.812389  51.32931\n",
      "  46.546182  78.392719  57.470281  40.512902 154.760331  58.2331\n",
      " 109.018302 129.355678  42.998478  46.68781   49.596052  48.035909\n",
      " 107.443158  41.967278  44.443063  47.106662  60.661183 144.381604\n",
      "  46.132936 134.796517 137.469586  46.614403  51.434689  44.709575\n",
      " 156.769217 114.331223 140.962965 122.109074  75.684436 141.98908\n",
      "  51.303733  76.437497 139.232776  42.652583 200.653952  51.393408\n",
      " 134.203825 124.791747 156.824972 131.669136  46.030815  48.196969\n",
      "  46.365868  44.186508  78.872047  76.939545  40.852907  58.327732\n",
      " 138.590283  44.089322  45.998838  55.610318  51.901447 116.944263\n",
      "  60.077117  46.577109  55.199067  44.575455  45.818916  44.774564\n",
      "  54.574662  46.789852  44.722501 238.071828 104.131109  52.416431\n",
      "  52.408505  56.929345  50.239767  44.962462  44.199411  69.061642\n",
      "  83.615819 243.653897  46.279463 134.355935  45.032149 203.046248\n",
      " 124.31179   44.205335 135.927222  43.968401  46.525937  85.876588\n",
      " 206.875125  65.522094 105.35729  120.991966  61.832892  52.651151\n",
      " 106.588488 114.873398  48.383409  58.695213 110.633056  62.87754\n",
      "  99.778209  56.620068  54.985312 125.015651 113.110269 135.362127\n",
      "  46.740077 114.718764 119.578024  58.006134 117.642777  54.073049\n",
      " 114.935215 122.862128  41.320088  44.463173  55.780153  43.94692\n",
      "  56.775967  55.489394 137.740295  39.556846  55.532822  52.173435\n",
      " 156.284174 103.742309  87.69426   44.894636  49.794579  50.654647\n",
      "  46.536232  46.711746  57.425392 109.66117  138.573298 115.835331\n",
      "  49.110189  92.351899 136.345158  56.464742  55.450342 121.14739\n",
      "  56.157893  62.206259  51.493602  54.873903  40.253771  46.275855\n",
      "  44.894636 117.267979 118.941077  59.128871  57.747612  45.413215\n",
      "  56.897138  75.393165  51.177167 118.692796  57.12887  123.084205\n",
      "  46.499135  56.352188 180.4644    44.879109  48.551248 189.015037\n",
      "  57.658995  44.763685  55.890738  51.177691  45.727603  49.803644\n",
      "  58.063248  99.158093 134.179921  56.889792 223.02963   39.556846\n",
      "  57.91803   44.705231 133.377827  53.285348  50.655587 112.404489\n",
      "  67.900283  45.546949  58.327801  44.232008  45.205828 128.087075\n",
      " 103.440776  44.808631  45.923441  46.316726  50.312895  55.450654\n",
      "  56.426255  40.844343 119.578024  45.271632  55.49084   97.694838\n",
      "  54.742291 141.023577  42.14164  112.410982 100.778739  55.069315\n",
      "  63.343056 136.201674  46.40744   51.414867  67.022734  57.162694\n",
      "  44.009142  44.509406  43.543919  47.00881   56.159206  45.943366\n",
      " 115.753779  45.238735 115.833635 129.378719  50.18281  153.486716\n",
      "  43.130043  56.301423  42.337115 105.192411  37.095797  94.240621\n",
      "  55.104796 112.84213   42.947845  46.664294  45.72035   55.071537\n",
      "  58.39951   56.364128  56.414457  45.001881 133.64794  129.993879\n",
      " 182.452063  55.771822  46.093053  45.131885 121.641393 150.700523\n",
      "  56.420616 219.714254  51.384022 105.346866  43.10476   44.388031\n",
      "  55.838066  50.255357 126.498152  55.547552 116.424285  58.286102\n",
      "  61.294036  55.369884 204.258093  45.571249  49.126094  50.560356\n",
      "  50.653606  63.042158  43.810506  46.688255  44.596879  44.341645\n",
      " 108.416808  56.645755  45.006054  44.123618  57.053355  54.962653\n",
      "  56.654697 251.616346  45.846498  56.193527  56.611097  67.050989\n",
      " 120.607178  49.473697  51.021439 141.047091  42.682677  44.717534\n",
      "  44.232716  55.659656 141.98908   58.211568  56.784095  84.039406\n",
      "  53.055059 168.906719 130.727804  50.795725  55.364696  41.170262\n",
      "  46.14746   44.425733  46.201245  53.093238  56.096163  45.771391\n",
      " 184.863888 156.488713  46.402874  53.589535  51.672323 220.135029\n",
      "  44.250823 133.130245  57.648496  85.038959  61.54875  129.763635\n",
      "  60.070164  57.678122  52.32578   41.240533  56.874428 124.509461\n",
      " 144.060555  46.655244  55.439076  91.25508  180.743785  58.284414\n",
      "  54.701383 182.750606 207.982023  43.882536  84.205915  52.967083\n",
      "  44.399296  44.212065 117.507491  56.898749  46.731764  50.116161\n",
      "  75.704108  46.432138  46.30115  185.974016 165.548368  57.52025\n",
      "  46.733142 163.329583  56.20059   56.665345  62.479723 207.716433\n",
      "  44.712996  44.591257 132.268845  56.632069  41.240533  50.835198\n",
      " 115.852719 117.099933 111.10467  239.59623   46.358198 117.273146\n",
      "  56.168372  42.043737  62.576201 100.205786  82.233531  57.40992\n",
      "  89.159349 165.085094  63.346145  59.096339  54.603515 130.71997\n",
      "  49.097864 112.713664  44.220876  43.596444  48.982782  55.350762\n",
      "  41.588913  80.034713  57.478248  45.571249  44.026834  50.073052\n",
      "  46.312047  57.960989 209.290386  54.583378  52.45342  119.868347\n",
      "  55.699267  53.687677 116.667204  41.576398  55.703989  54.508877\n",
      " 132.255266  46.439513  80.509981  64.272007  56.769268 137.136512\n",
      "  54.498962  56.494653  44.552569  68.989148  78.579399 115.460646\n",
      "  62.295275  72.13094  225.419581  59.6447   187.513615  46.406182\n",
      "  57.736489  62.245089 166.249808 125.094252 113.230622  56.123888\n",
      " 121.869738  46.698024  54.961982 121.735001 138.500034 121.839794\n",
      "  39.610966 127.747767  58.069691  41.903886 129.982192  53.215795\n",
      "  59.472329  54.881543  58.284319  48.467315  54.34907  127.132907\n",
      " 126.061721 165.986259 129.719724  99.935559  44.164363  45.94858\n",
      "  58.45631   39.32422   50.72426  115.529553 138.818589 131.312298\n",
      "  62.950881  50.435154  43.390886  46.766397  46.543246  46.132936\n",
      "  46.327259 162.308545 144.960877  44.64097   58.327801  57.92434\n",
      "  55.689134  44.280761 131.93672   46.549601  57.542675  55.373127\n",
      "  45.240675  47.1681    55.407848  53.826459 106.795593  46.72036\n",
      " 249.236299 225.893712 117.98333   55.338966  46.494752  41.229384\n",
      "  56.608392  55.852424  44.655358  53.062714  53.024656 209.253925\n",
      " 116.55102   53.699941 107.767699  56.71632  120.476402  55.506354\n",
      "  56.143202 170.351687 248.027468  45.770538  55.452695  56.32506\n",
      " 136.850602 223.652476  42.035328 119.178655 142.388779 130.681855\n",
      "  44.755646  54.761169  77.285526  79.997806  45.189836  56.774112\n",
      "  57.346997 102.006041  51.23668   55.58047  114.296728  57.520213\n",
      " 209.493645 124.611204  56.995091 119.913318  41.685094  50.123023\n",
      "  56.755794  41.477116 117.360299  46.434009  54.681005 165.917523\n",
      "  56.795743  45.887772  57.080133  79.775473 182.863572  46.376634\n",
      "  57.461412  44.505321  58.188676  44.592278 147.369833  57.0529\n",
      " 138.822311 127.143709  60.488973 126.571095  42.968975  99.747769\n",
      "  48.569604  78.834356  50.69279  217.19113  145.598782  56.39054\n",
      " 132.293015  57.760906 130.94214  119.500888 116.451079  52.19813\n",
      " 133.057951  50.72426  103.519877 123.444778 187.376005  55.550025\n",
      " 127.488452  46.068028  87.398158  50.176958 129.91809   57.351839\n",
      "  45.991432 154.887105  45.931808  57.778415  50.180834  46.478407\n",
      " 136.56586   62.708937 132.636873]\n"
     ]
    }
   ],
   "source": [
    "from sklearn.ensemble import RandomForestRegressor\n",
    "model=RandomForestRegressor(n_estimators=100,random_state=42)\n",
    "model.fit(x_train,y_train)\n",
    "y_pred=model.predict(x_test)\n",
    "print(y_pred)"
   ]
  },
  {
   "cell_type": "code",
   "execution_count": 69,
   "id": "ba75104b-617f-4e97-8e8d-2b1ee34cebb9",
   "metadata": {},
   "outputs": [
    {
     "name": "stdout",
     "output_type": "stream",
     "text": [
      "250.9241020000002\n"
     ]
    }
   ],
   "source": [
    "def predict_stock_price(future_date):\n",
    "    future_date = pd.to_datetime(future_date, format='%d-%m-%Y')  # Adjust the format as needed\n",
    "    future_date_float = future_date.timestamp()\n",
    "    future_date_df = pd.DataFrame({'date_float': [future_date_float]})\n",
    "    predicted_price = model.predict(future_date_df)\n",
    "    return predicted_price[0]\n",
    "future_date='23-04-2029'\n",
    "predicted_value=predict_stock_price(future_date)\n",
    "print(predicted_value)"
   ]
  },
  {
   "cell_type": "code",
   "execution_count": null,
   "id": "02c16f9c-f3a6-4b79-b7ab-9fa6cad27c2d",
   "metadata": {},
   "outputs": [],
   "source": []
  }
 ],
 "metadata": {
  "kernelspec": {
   "display_name": "Python 3 (ipykernel)",
   "language": "python",
   "name": "python3"
  },
  "language_info": {
   "codemirror_mode": {
    "name": "ipython",
    "version": 3
   },
   "file_extension": ".py",
   "mimetype": "text/x-python",
   "name": "python",
   "nbconvert_exporter": "python",
   "pygments_lexer": "ipython3",
   "version": "3.11.7"
  }
 },
 "nbformat": 4,
 "nbformat_minor": 5
}
